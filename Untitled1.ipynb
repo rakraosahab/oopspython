{
 "cells": [
  {
   "cell_type": "markdown",
   "id": "36be39c7",
   "metadata": {},
   "source": [
    "Class inside : in this we create a another class inside a class to access or give another type data or do some functions which are so different and some times use.\n",
    "\n"
   ]
  },
  {
   "cell_type": "code",
   "execution_count": 3,
   "id": "294c49c4",
   "metadata": {},
   "outputs": [
    {
     "name": "stdout",
     "output_type": "stream",
     "text": [
      "rakesh 2\n",
      "Dell 8gb\n",
      "this is inner class\n"
     ]
    }
   ],
   "source": [
    "class student:\n",
    "    def __init__(self,a,b):\n",
    "        self.a=a\n",
    "        self.b=b\n",
    "        #here we create a object to access the data of inner class\n",
    "        self.lap=self.laptop()\n",
    "    def show(self):\n",
    "        print(self.a,self.b)\n",
    "        #This is use for call show funtion of laptop class\n",
    "        self.lap.show()\n",
    "        #this is inner class\n",
    "    class laptop:\n",
    "        def __init__(self):\n",
    "            self.brand=\"Dell\"\n",
    "            self.ram=\"8gb\"\n",
    "            #here both show classes are different and we can give same name to both but classes have to different \n",
    "        def show(self):\n",
    "            print(self.brand,self.ram)\n",
    "            print(\"this is inner class\")\n",
    "            \n",
    "s=student(\"rakesh\",2)\n",
    "s.show()\n"
   ]
  },
  {
   "cell_type": "markdown",
   "id": "b1f73c41",
   "metadata": {},
   "source": [
    "inhertitance:\n",
    "types of inheritance :- 1. single level inheritance :- in this a child class inherit only one class \n",
    "2. multilevel inheritance : in this parent class is also a child class of another class like c is b's child class then b is also a's child class.\n",
    "3. multiple inheritance: in this type of inheritance a single child class have two parent class. \n"
   ]
  },
  {
   "cell_type": "code",
   "execution_count": 9,
   "id": "f686fdf9",
   "metadata": {},
   "outputs": [
    {
     "name": "stdout",
     "output_type": "stream",
     "text": [
      "this is function 1\n",
      "this is function 3\n"
     ]
    }
   ],
   "source": [
    "class a:\n",
    "    def f1(self):\n",
    "        print(\"this is function 1\")\n",
    "    def f2(self):\n",
    "        print(\"this is function 2\")\n",
    "        #single inheritance \n",
    "class b(a):\n",
    "    def f3(self):\n",
    "        print(\"this is function 3\")\n",
    "# multilevel inheritance here we can access function of a and b \n",
    "class c(b):\n",
    "    def f4(self):\n",
    "        print(\"this is multilevel \")\n",
    "c1=c()\n",
    "\n",
    "#here we using class c function and access the data of class a and b\n",
    "c1.f1()\n",
    "c1.f3()\n"
   ]
  },
  {
   "cell_type": "code",
   "execution_count": 10,
   "id": "d3eaaf4d",
   "metadata": {},
   "outputs": [
    {
     "name": "stdout",
     "output_type": "stream",
     "text": [
      "this is function 1\n",
      "this is function 3\n"
     ]
    }
   ],
   "source": [
    "## multiple inheritance \n",
    "class a:\n",
    "    def f1(self):\n",
    "        print(\"this is function 1\")\n",
    "    def f2(self):\n",
    "        print(\"this is function 2\")\n",
    "    \n",
    "class b:\n",
    "    def f3(self):\n",
    "        print(\"this is function 3\")\n",
    "# multiple inheritance here we can access function of a and b \n",
    "class c(a,b):\n",
    "    def f4(self):\n",
    "        print(\"this is multilevel \")\n",
    "c1=c()\n",
    "\n",
    "#here we using class c function and access the data of class a and b\n",
    "c1.f1()\n",
    "c1.f3()\n"
   ]
  },
  {
   "cell_type": "markdown",
   "id": "740b73d4",
   "metadata": {},
   "source": [
    "Constructor(__init__): constructor is used to give memory to the objects used here __init__ function is constructor \n",
    "\n",
    "here if we call class b is child class of a then it can print or take value of a class constructor\n",
    "if we create a constructor of b class also it print only b __init__ \n",
    "if we want to access both constructor using call only child class we have write super().__init__() in the __Init__ function of b class\n",
    "   \n",
    "   \n",
    "MRO (method resolution order) : it is all order how we use constructor or method in order \n"
   ]
  },
  {
   "cell_type": "code",
   "execution_count": 6,
   "id": "6f6dc8b6",
   "metadata": {},
   "outputs": [
    {
     "name": "stdout",
     "output_type": "stream",
     "text": [
      "its A init\n",
      "its B init\n"
     ]
    }
   ],
   "source": [
    "class a:\n",
    "    def __init__(self):\n",
    "        print(\"its A init\")\n",
    "    def f1(self):\n",
    "        print(\"this is function 1\")\n",
    "    def f2(self):\n",
    "        print(\"this is function 2\")\n",
    "    \n",
    "class b(a):\n",
    "    def __init__(self):\n",
    "        #using this we access the costructor or __init__ function of a class\n",
    "        super().__init__()\n",
    "        \n",
    "        print(\"its B init\")\n",
    "    def f3(self):\n",
    "        print(\"this is function 3\")\n",
    "        #this will not work as super function \n",
    "        super().f2()\n",
    "        super().__init__()\n",
    "\n",
    "\n",
    "c1=b()\n",
    "\n",
    "\n",
    "#here we using class c function and access the data of class a and b\n",
    "#c1.f1()\n",
    "#c1.f3()\n"
   ]
  },
  {
   "cell_type": "code",
   "execution_count": 22,
   "id": "37a66975",
   "metadata": {},
   "outputs": [
    {
     "name": "stdout",
     "output_type": "stream",
     "text": [
      "its A init\n",
      "its C init\n",
      "this is function 1\n",
      "this is function 3\n",
      "this is multilevel \n"
     ]
    }
   ],
   "source": [
    "## multiple inheritance \n",
    "class a:\n",
    "    def __init__(self):\n",
    "        print(\"its A init\")\n",
    "    def f1(self):\n",
    "        print(\"this is function 1\")\n",
    "    def f2(self):\n",
    "        print(\"this is function 2\")\n",
    "    \n",
    "class b:\n",
    "    def __init__(self):\n",
    "        print(\"its B init\")\n",
    "    def f1(self):\n",
    "        print(\"this is function 1 of B\")\n",
    "    def f3(self):\n",
    "        print(\"this is function 3\")\n",
    "# multiple inheritance here we can access function of a and b \n",
    "class c(a,b):\n",
    "    def __init__(self):\n",
    "        #here it call only super class a init method or function we cannot access b class function or method using this\n",
    "        super().__init__()\n",
    "        #it didnot print b class and didnot give any error\n",
    "        super(b).__init__()\n",
    "        print(\"its C init\")\n",
    "    def f4(self):\n",
    "        #here we call b class function f3\n",
    "        super().f3()\n",
    "        print(\"this is multilevel \")\n",
    "c1=c()\n",
    "#it first take only a class because of left to right here from to a then b \n",
    "c1.f1()\n",
    "#here we check \n",
    "c1.f4()\n",
    "\n",
    "#here we using class c function and access the data of class a and b\n",
    "#c1.f1()\n",
    "#c1.f3()"
   ]
  },
  {
   "cell_type": "code",
   "execution_count": null,
   "id": "b0fc1d46",
   "metadata": {},
   "outputs": [],
   "source": []
  }
 ],
 "metadata": {
  "kernelspec": {
   "display_name": "Python 3 (ipykernel)",
   "language": "python",
   "name": "python3"
  },
  "language_info": {
   "codemirror_mode": {
    "name": "ipython",
    "version": 3
   },
   "file_extension": ".py",
   "mimetype": "text/x-python",
   "name": "python",
   "nbconvert_exporter": "python",
   "pygments_lexer": "ipython3",
   "version": "3.9.7"
  }
 },
 "nbformat": 4,
 "nbformat_minor": 5
}
