{
 "cells": [
  {
   "cell_type": "markdown",
   "id": "998f13d1",
   "metadata": {},
   "source": [
    "Polymorphism: polymorphism is a object have different behaviour like another classes but same function\n"
   ]
  },
  {
   "cell_type": "markdown",
   "id": "934d4dc6",
   "metadata": {},
   "source": [
    "# Types of polymorphism"
   ]
  },
  {
   "cell_type": "markdown",
   "id": "355bba03",
   "metadata": {},
   "source": [
    "1. Duck typing: \n",
    "2. operator Overloading: \n",
    "3. method overloading:\n",
    "4. method overriding:\n",
    "\n",
    "Duck Typing: if the bheaviour or function matches to that object then it is only that function work\n",
    "\n",
    "Operator Overloading: we have different methods or function to do a single operator like + have .__add__ method here we define the work of + using that function different operators have different method names \n",
    "\n",
    "\n",
    "method Overloading: Method overloading is there is same name function or method in a class and parameters are different like class a contain function f1(self,c,d) and also class a have function f1(self,c,d,e)\n",
    "\n",
    "Method Overriding: Method Overriding is there is two class but have same name function have do different works"
   ]
  },
  {
   "cell_type": "markdown",
   "id": "9d05b2a5",
   "metadata": {},
   "source": [
    "# Duck Typing"
   ]
  },
  {
   "cell_type": "code",
   "execution_count": 4,
   "id": "cce36706",
   "metadata": {},
   "outputs": [
    {
     "name": "stdout",
     "output_type": "stream",
     "text": [
      "successfuly compiled by pycharm \n",
      "successfuly run code by pycharm\n",
      "successfuly compiled \n",
      "successfuly run code\n"
     ]
    }
   ],
   "source": [
    "class jupyter:\n",
    "    def execute(self):\n",
    "        print(\"successfuly compiled \")\n",
    "        print(\"successfuly run code\")\n",
    "class pycharm:\n",
    "    def execute(self):\n",
    "        print(\"successfuly compiled by pycharm \")\n",
    "        print(\"successfuly run code by pycharm\")\n",
    "        print(\"successfuly compiled \")\n",
    "        print(\"successfuly run code\")\n",
    "class laptop:\n",
    "    def a(self,ide):\n",
    "        #here we call the execute function from another class using ide as a object \n",
    "        ide.execute()\n",
    "# here i want to give ide jupyter \n",
    "ide=jupyter()\n",
    "#here we want to use pycharm as ide \n",
    "ide=pycharm()\n",
    "c=laptop()\n",
    "c.a(ide)"
   ]
  },
  {
   "cell_type": "markdown",
   "id": "788756ab",
   "metadata": {},
   "source": [
    "# operator overloading"
   ]
  },
  {
   "cell_type": "code",
   "execution_count": 13,
   "id": "6302dccf",
   "metadata": {},
   "outputs": [
    {
     "name": "stdout",
     "output_type": "stream",
     "text": [
      "-1\n",
      "RaoSahab\n",
      "-1\n",
      "30\n",
      "RaoSahab\n"
     ]
    }
   ],
   "source": [
    "a=5\n",
    "b=6\n",
    "c=\"Rao\"\n",
    "d=\"Sahab\"\n",
    "print(a-b)\n",
    "print(c+d)\n",
    " ### These are magic methods\n",
    "\n",
    "    #it is also subtract a and b \n",
    "print(int.__sub__(a,b))\n",
    "#here we multiple two interger a and b\n",
    "print(int.__mul__(a,b))\n",
    "\n",
    "#it also add two strings c and d\n",
    "print(str.__add__(c,d))\n"
   ]
  },
  {
   "cell_type": "code",
   "execution_count": 20,
   "id": "065746b9",
   "metadata": {},
   "outputs": [
    {
     "name": "stdout",
     "output_type": "stream",
     "text": [
      "<__main__.student object at 0x000001B43038F1F0>\n",
      "158 57\n",
      "s2 wins\n"
     ]
    }
   ],
   "source": [
    "#operator overloading\n",
    "class student:\n",
    "    def __init__(self,m1,m2):\n",
    "        self.m1=m1\n",
    "        self.m2=m2\n",
    "    #this method or function is define for s3=s1+s2 work there we add values of both the students \n",
    "    def __add__(self,other):\n",
    "        m1=self.m1+other.m1\n",
    "        m2=self.m2+other.m2\n",
    "        s3=student(m1,m2)\n",
    "        return s3\n",
    "    #here we define function gt is use greater than function\n",
    "    def __gt__(self,other):\n",
    "        r1=self.m1+self.m2\n",
    "        r2=other.m1+other.m2\n",
    "        if r1>r2:\n",
    "            return True\n",
    "        else:\n",
    "            return False\n",
    "s1=student(68,23)\n",
    "s2=student(90,34)\n",
    "#it is show an error if we use it directly without define __add__ function \n",
    "s3=s1+s2\n",
    "print(s3)\n",
    "#print marks as m1 of s1 and m1 of s2 add and m2 of both student add\n",
    "print(s3.m1,s3.m2)\n",
    "  \n",
    "if s1>s2:\n",
    "    print(\"s1 wins\")\n",
    "else:\n",
    "    print(\"s2 wins\")"
   ]
  },
  {
   "cell_type": "markdown",
   "id": "503a674b",
   "metadata": {},
   "source": [
    "# method overloading"
   ]
  },
  {
   "cell_type": "code",
   "execution_count": 26,
   "id": "d998c32e",
   "metadata": {},
   "outputs": [
    {
     "name": "stdout",
     "output_type": "stream",
     "text": [
      "5\n"
     ]
    }
   ],
   "source": [
    "class a:\n",
    "    def f1(self,c,d,e):\n",
    "        self.c=c\n",
    "        self.d=d\n",
    "        self.e=e\n",
    "        print(c+d+e)\n",
    "    def f1(self,c,d):\n",
    "        self.c=c\n",
    "        self.d=d\n",
    "        print(c+d)\n",
    "c=a()\n",
    "#here it call only second f1 function\n",
    "c.f1(2,3)"
   ]
  },
  {
   "cell_type": "code",
   "execution_count": 35,
   "id": "cc57af9e",
   "metadata": {},
   "outputs": [
    {
     "name": "stdout",
     "output_type": "stream",
     "text": [
      "None\n",
      "2\n",
      "5\n",
      "18\n"
     ]
    }
   ],
   "source": [
    "class a:\n",
    "    #here it take by default None valuefor c,d,e\n",
    "    def f1(self,c=None,d=None,e=None):\n",
    "        #here we change the value of c,d,e\n",
    "        self.c=c\n",
    "        self.d=d\n",
    "        self.e=e\n",
    "        if c!=None and d!=None and e!=None:\n",
    "            print(c+d+e)\n",
    "        elif c!=None and d!=None:\n",
    "            print(c+d)\n",
    "        else:\n",
    "            print(c)\n",
    "c=a()\n",
    "#here it call only second f1 function\n",
    "c.f1()\n",
    "c.f1(2)\n",
    "c.f1(2,3)\n",
    "c.f1(5,6,7)"
   ]
  },
  {
   "cell_type": "markdown",
   "id": "3ca56def",
   "metadata": {},
   "source": [
    "# method overriding\n"
   ]
  },
  {
   "cell_type": "code",
   "execution_count": 51,
   "id": "ab368fdd",
   "metadata": {},
   "outputs": [
    {
     "name": "stdout",
     "output_type": "stream",
     "text": [
      "5\n"
     ]
    }
   ],
   "source": [
    "class a:\n",
    "    #here this method for class a \n",
    "    def f1(self,c,d):\n",
    "        self.c=c\n",
    "        self.d=d\n",
    "        print(c+d)\n",
    "class b(a):\n",
    "    #here this method for class b\n",
    "    def f1(self,c,d):\n",
    "        #it didnot work here because at the time of object parameter it didnot find which value for which function\n",
    "        #super().f1()\n",
    "        self.c=c\n",
    "        self.d=d\n",
    "        print(c+d)\n",
    "f=b()\n",
    "#here it call only second f1 function of class b only \n",
    "f.f1(2,3)"
   ]
  },
  {
   "cell_type": "code",
   "execution_count": null,
   "id": "41e08812",
   "metadata": {},
   "outputs": [],
   "source": []
  }
 ],
 "metadata": {
  "kernelspec": {
   "display_name": "Python 3 (ipykernel)",
   "language": "python",
   "name": "python3"
  },
  "language_info": {
   "codemirror_mode": {
    "name": "ipython",
    "version": 3
   },
   "file_extension": ".py",
   "mimetype": "text/x-python",
   "name": "python",
   "nbconvert_exporter": "python",
   "pygments_lexer": "ipython3",
   "version": "3.9.7"
  }
 },
 "nbformat": 4,
 "nbformat_minor": 5
}
