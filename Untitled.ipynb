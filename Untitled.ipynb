{
 "cells": [
  {
   "cell_type": "markdown",
   "id": "0e9c03f9",
   "metadata": {},
   "source": [
    "Namespace= namespace is a area where we create a object or variables\n",
    "Classnamespace= if we want to give a particular or all methods same value of a variable use class namespace which inizialize inside only a class \n",
    "object/instance namespace=it is decalerad inside a function and we can change the value of these variables according different objects\n",
    "\n",
    "\n",
    "\n",
    "Self: self is used to assign or define a particular object where the compiler is confused "
   ]
  },
  {
   "cell_type": "code",
   "execution_count": 1,
   "id": "ca60ba83",
   "metadata": {},
   "outputs": [
    {
     "name": "stdout",
     "output_type": "stream",
     "text": [
      "2691792277856\n",
      "2691792280112\n"
     ]
    }
   ],
   "source": [
    "#create a class\n",
    "class ram:\n",
    "    pass\n",
    "# call the function of class \n",
    "c1=ram()\n",
    "#here ram() is constructor who assign the memory and size of memory calculate\n",
    "c2=ram()\n",
    "#when we create two objects then 2different memory allocation are given and size depends on number of variables in a object\n",
    "#it print the address in heap memory of that objects store\n",
    "print(id(c1))\n",
    "print(id(c2))\n"
   ]
  },
  {
   "cell_type": "markdown",
   "id": "29ccdfe3",
   "metadata": {},
   "source": [
    "Types of variable:1. Instance Variable : it is declare inside the function and we can change value according to the object\n",
    "2. Class Variable :it is also called static variable in which we intialize the value inside a class for all functions same if we want to  access class variable inside a function we have to use cls instead of self and we write @classmethod outside that function to donot give the value to cls"
   ]
  },
  {
   "cell_type": "code",
   "execution_count": 19,
   "id": "dde1ea67",
   "metadata": {},
   "outputs": [
    {
     "name": "stdout",
     "output_type": "stream",
     "text": [
      "Rakesh\n",
      "10\n",
      "29\n"
     ]
    }
   ],
   "source": [
    "class rak:\n",
    "    # __init__in this we can assign the value using call to another function \n",
    "    #__init__ its work as a constructor assign the memory to object \n",
    "    #self is used to call the values and for give the values to its right place like if we assign two objects for a function and \n",
    "    #both have different value so how we get which one is for which function\n",
    "    \n",
    "    d=\"Rakesh\"# its class namspace and class variable and static variables\n",
    "    def __init__(self,h,m):\n",
    "        #instance namespace and instance variable \n",
    "        #here we assign value to all objects\n",
    "        self.h=h\n",
    "        self.m=m\n",
    "    def ra(self):\n",
    "        z=self.m+self.h\n",
    "        print(z)\n",
    "   \n",
    "a=rak(4,6)\n",
    "b=rak(6,8)\n",
    "#here we assign value to the b object\n",
    "#here we change the value in b object\n",
    "b.h=9\n",
    "b.m=20\n",
    "#here we print the value of class variable\n",
    "print(a.d)\n",
    "a.ra()\n",
    "b.ra()\n",
    "\n"
   ]
  },
  {
   "cell_type": "markdown",
   "id": "3cf8f17f",
   "metadata": {},
   "source": [
    "types of methods:-1. instance method : in that method the result is change on the based of object value it is used for instance variable \n",
    "                    Types of Instance method:1. accessor method:- In this method we only access the value or get   the value\n",
    "                    2.mutator method:- In this method we can change or the value is change according to method like set method\n",
    "2. class method:-class method is used for use the class variable if we want to work with class variavle inside a class method we use cls instead of self and write @classmethod outside the function for function an know that is a class method and have class variable inside it and using @classmethod we donot have to give the value of cls otherwise it show error\n",
    "\n",
    "@Classmethod is called class method decorator\n",
    "3. static method:-\n",
    "static method is not based upon the variables it is use for perform the oeration  without using any variable \n",
    "for static method we donot use self and cls in the function define we blank that one()\n",
    "and as same as we use @classmethod for class method cls here we use @staticmethod\n"
   ]
  },
  {
   "cell_type": "code",
   "execution_count": 1,
   "id": "6bd9ab23",
   "metadata": {},
   "outputs": [
    {
     "name": "stdout",
     "output_type": "stream",
     "text": [
      "23.0\n",
      "rakesh\n",
      "Ram Ram ji  \n"
     ]
    }
   ],
   "source": [
    "class rak:\n",
    "    ram=\"rakesh\"#class variable\n",
    "    def __init__(self,a,b,c):\n",
    "        self.a=a\n",
    "        self.b=b\n",
    "        self.c=c\n",
    "    #it assign value to all function if it call in __init__ function\n",
    "    #the average method here is instance method\n",
    "    def avg(self):\n",
    "        return (self.a+self.b+self.c)/3\n",
    "    #get method is used to get the value it is accessor \n",
    "    def get__a(self):\n",
    "        return self.a\n",
    "    #it change the value so it is mutator instance method\n",
    "    def set__a(self,d):\n",
    "        self.a=d\n",
    "    @classmethod\n",
    "    def s(cls):\n",
    "        print(cls.ram)\n",
    "    @staticmethod\n",
    "    def stt():\n",
    "        print(\"Ram Ram ji  \")\n",
    "    \n",
    "s1=rak(12,34,23)\n",
    "s2=rak(33,5,66)\n",
    "#here we see the use of self here we want only s1 object average \n",
    "print(s1.avg())\n",
    "rak.s()\n",
    "rak.stt()\n"
   ]
  },
  {
   "cell_type": "code",
   "execution_count": 7,
   "id": "a11b0592",
   "metadata": {},
   "outputs": [
    {
     "ename": "TypeError",
     "evalue": "ram() takes no arguments",
     "output_type": "error",
     "traceback": [
      "\u001b[1;31m---------------------------------------------------------------------------\u001b[0m",
      "\u001b[1;31mTypeError\u001b[0m                                 Traceback (most recent call last)",
      "\u001b[1;32m~\\AppData\\Local\\Temp/ipykernel_7952/2079221052.py\u001b[0m in \u001b[0;36m<module>\u001b[1;34m\u001b[0m\n\u001b[0;32m      7\u001b[0m         \u001b[0mself\u001b[0m\u001b[1;33m.\u001b[0m\u001b[0mc\u001b[0m\u001b[1;33m=\u001b[0m\u001b[0mc\u001b[0m\u001b[1;33m\u001b[0m\u001b[1;33m\u001b[0m\u001b[0m\n\u001b[0;32m      8\u001b[0m         \u001b[1;32mreturn\u001b[0m\u001b[1;33m(\u001b[0m\u001b[0ma\u001b[0m\u001b[1;33m+\u001b[0m\u001b[0mb\u001b[0m\u001b[1;33m+\u001b[0m\u001b[0mc\u001b[0m\u001b[1;33m)\u001b[0m\u001b[1;33m\u001b[0m\u001b[1;33m\u001b[0m\u001b[0m\n\u001b[1;32m----> 9\u001b[1;33m \u001b[0ms2\u001b[0m\u001b[1;33m=\u001b[0m\u001b[0mram\u001b[0m\u001b[1;33m(\u001b[0m\u001b[1;36m2\u001b[0m\u001b[1;33m,\u001b[0m\u001b[1;36m3\u001b[0m\u001b[1;33m,\u001b[0m\u001b[1;36m4\u001b[0m\u001b[1;33m)\u001b[0m\u001b[1;33m\u001b[0m\u001b[1;33m\u001b[0m\u001b[0m\n\u001b[0m\u001b[0;32m     10\u001b[0m \u001b[0ms2\u001b[0m\u001b[1;33m.\u001b[0m\u001b[0md\u001b[0m\u001b[1;33m(\u001b[0m\u001b[1;33m)\u001b[0m\u001b[1;33m\u001b[0m\u001b[1;33m\u001b[0m\u001b[0m\n",
      "\u001b[1;31mTypeError\u001b[0m: ram() takes no arguments"
     ]
    }
   ],
   "source": [
    "class ram:\n",
    "    def ram(self):\n",
    "        pass\n",
    "    def d(self,a,b,c):\n",
    "        self.a=a\n",
    "        self.b=b\n",
    "        self.c=c\n",
    "        return(a+b+c)\n",
    "s2=ram(2,3,4)\n",
    "s2.d()"
   ]
  },
  {
   "cell_type": "code",
   "execution_count": null,
   "id": "5b4c3256",
   "metadata": {},
   "outputs": [],
   "source": []
  }
 ],
 "metadata": {
  "kernelspec": {
   "display_name": "Python 3 (ipykernel)",
   "language": "python",
   "name": "python3"
  },
  "language_info": {
   "codemirror_mode": {
    "name": "ipython",
    "version": 3
   },
   "file_extension": ".py",
   "mimetype": "text/x-python",
   "name": "python",
   "nbconvert_exporter": "python",
   "pygments_lexer": "ipython3",
   "version": "3.9.7"
  }
 },
 "nbformat": 4,
 "nbformat_minor": 5
}
